{
  "nbformat": 4,
  "nbformat_minor": 0,
  "metadata": {
    "colab": {
      "name": "Copy of Copy of Untitled",
      "provenance": [],
      "authorship_tag": "ABX9TyNVg38Hn67N5GD4fRZTFBSn",
      "include_colab_link": true
    },
    "kernelspec": {
      "name": "python3",
      "display_name": "Python 3"
    }
  },
  "cells": [
    {
      "cell_type": "markdown",
      "metadata": {
        "id": "view-in-github",
        "colab_type": "text"
      },
      "source": [
        "<a href=\"https://colab.research.google.com/github/Nagamvinusha/assignment/blob/master/Copy_of_Copy_of_Untitled.ipynb\" target=\"_parent\"><img src=\"https://colab.research.google.com/assets/colab-badge.svg\" alt=\"Open In Colab\"/></a>"
      ]
    },
    {
      "cell_type": "markdown",
      "metadata": {
        "id": "9noyWh40j-6Z",
        "colab_type": "text"
      },
      "source": [
        " 1.\tPredict the output for the following code snippets:"
      ]
    },
    {
      "cell_type": "code",
      "metadata": {
        "id": "eOpxZGS3gopj",
        "colab_type": "code",
        "colab": {
          "base_uri": "https://localhost:8080/",
          "height": 100
        },
        "outputId": "b1c06624-b89b-4b0a-84a0-f0a5f6fbb954"
      },
      "source": [
        "\n",
        "print(0.1+0.2)\n",
        "print(\"1.8\"+\"2\")\n",
        "print(87>78)\n",
        "print((0.1+0.2)==0.3)\n",
        "print(\"Predict \" \"Output\" ,\".....\")\n"
      ],
      "execution_count": null,
      "outputs": [
        {
          "output_type": "stream",
          "text": [
            "0.30000000000000004\n",
            "1.82\n",
            "True\n",
            "False\n",
            "Predict Output .....\n"
          ],
          "name": "stdout"
        }
      ]
    },
    {
      "cell_type": "markdown",
      "metadata": {
        "id": "ehYyamS7hceT",
        "colab_type": "text"
      },
      "source": [
        "2.\tPredict the output for the following code snippets:\n",
        "\n"
      ]
    },
    {
      "cell_type": "code",
      "metadata": {
        "id": "1rVVbN9ClulO",
        "colab_type": "code",
        "colab": {
          "base_uri": "https://localhost:8080/",
          "height": 262
        },
        "outputId": "2282b060-55ed-477a-e00d-919ce395e958"
      },
      "source": [
        "print(\"Prints\",\"multiple\",\"messages\\n\")\n",
        "print(\"Concatenate \"+\" two strings\\n\")\n",
        "print(5+6+\" adds two numbers\\n\")"
      ],
      "execution_count": null,
      "outputs": [
        {
          "output_type": "stream",
          "text": [
            "Prints multiple messages\n",
            "\n",
            "Concatenate  two strings\n",
            "\n"
          ],
          "name": "stdout"
        },
        {
          "output_type": "error",
          "ename": "TypeError",
          "evalue": "ignored",
          "traceback": [
            "\u001b[0;31m---------------------------------------------------------------------------\u001b[0m",
            "\u001b[0;31mTypeError\u001b[0m                                 Traceback (most recent call last)",
            "\u001b[0;32m<ipython-input-2-8dfb88e8fb09>\u001b[0m in \u001b[0;36m<module>\u001b[0;34m()\u001b[0m\n\u001b[1;32m      1\u001b[0m \u001b[0mprint\u001b[0m\u001b[0;34m(\u001b[0m\u001b[0;34m\"Prints\"\u001b[0m\u001b[0;34m,\u001b[0m\u001b[0;34m\"multiple\"\u001b[0m\u001b[0;34m,\u001b[0m\u001b[0;34m\"messages\\n\"\u001b[0m\u001b[0;34m)\u001b[0m\u001b[0;34m\u001b[0m\u001b[0;34m\u001b[0m\u001b[0m\n\u001b[1;32m      2\u001b[0m \u001b[0mprint\u001b[0m\u001b[0;34m(\u001b[0m\u001b[0;34m\"Concatenate \"\u001b[0m\u001b[0;34m+\u001b[0m\u001b[0;34m\" two strings\\n\"\u001b[0m\u001b[0;34m)\u001b[0m\u001b[0;34m\u001b[0m\u001b[0;34m\u001b[0m\u001b[0m\n\u001b[0;32m----> 3\u001b[0;31m \u001b[0mprint\u001b[0m\u001b[0;34m(\u001b[0m\u001b[0;36m5\u001b[0m\u001b[0;34m+\u001b[0m\u001b[0;36m6\u001b[0m\u001b[0;34m+\u001b[0m\u001b[0;34m\" adds two numbers\\n\"\u001b[0m\u001b[0;34m)\u001b[0m\u001b[0;34m\u001b[0m\u001b[0;34m\u001b[0m\u001b[0m\n\u001b[0m",
            "\u001b[0;31mTypeError\u001b[0m: unsupported operand type(s) for +: 'int' and 'str'"
          ]
        }
      ]
    },
    {
      "cell_type": "markdown",
      "metadata": {
        "id": "845R6_PhnHjO",
        "colab_type": "text"
      },
      "source": [
        "3.\tCorrect the given code snippets (only one change is allowed)"
      ]
    },
    {
      "cell_type": "code",
      "metadata": {
        "id": "LsAqRd3HmAJ9",
        "colab_type": "code",
        "colab": {
          "base_uri": "https://localhost:8080/",
          "height": 50
        },
        "outputId": "d0490331-cb70-4022-b146-83db82848d06"
      },
      "source": [
        "print(\"ba\"+\"na\"*2)\n",
        "print(r\"C:\\naresh\\raju\\abhi\")"
      ],
      "execution_count": null,
      "outputs": [
        {
          "output_type": "stream",
          "text": [
            "banana\n",
            "C:\\naresh\\raju\\abhi\n"
          ],
          "name": "stdout"
        }
      ]
    },
    {
      "cell_type": "markdown",
      "metadata": {
        "id": "_8q39N6cnpSx",
        "colab_type": "text"
      },
      "source": [
        "4.\tCorrect the given code snippets\n"
      ]
    },
    {
      "cell_type": "code",
      "metadata": {
        "id": "zLlKp7hJnkv_",
        "colab_type": "code",
        "colab": {
          "base_uri": "https://localhost:8080/",
          "height": 50
        },
        "outputId": "12dd3ef7-9a86-4701-b043-3c876ee634ee"
      },
      "source": [
        "print('Welcome to Python traing program'[-4::-4])\n",
        "print('A series of characters designated as one object knows as a string'[2:18:5])"
      ],
      "execution_count": null,
      "outputs": [
        {
          "output_type": "stream",
          "text": [
            "g anytoW\n",
            "sscc\n"
          ],
          "name": "stdout"
        }
      ]
    },
    {
      "cell_type": "markdown",
      "metadata": {
        "id": "G5onf3Urpz0m",
        "colab_type": "text"
      },
      "source": [
        "5.\tPredict the output for the given code snippet and justify the result."
      ]
    },
    {
      "cell_type": "code",
      "metadata": {
        "id": "azbAdXYHo2Pj",
        "colab_type": "code",
        "colab": {
          "base_uri": "https://localhost:8080/",
          "height": 67
        },
        "outputId": "4aac0b62-13f1-4122-db73-ba7b2b24dfc4"
      },
      "source": [
        "print('A series of characters designated as one object known as a string'[::-1][4::3])\n",
        "print('-----------')\n",
        "print('Welcome to Python traing program'[3:10][::-1])\n",
        "#At first it will reverse the string by[::-1]\n",
        "#next it will start printing from 4 th index and grabs every third position\n",
        "#first it will print from 3 to 10 position  hence we will get(come to) next it will reverse the string"
      ],
      "execution_count": null,
      "outputs": [
        {
          "output_type": "stream",
          "text": [
            "taawkcbe  tgestrcoeeA\n",
            "-----------\n",
            "ot emoc\n"
          ],
          "name": "stdout"
        }
      ]
    },
    {
      "cell_type": "markdown",
      "metadata": {
        "id": "eU2pSRWdsEC2",
        "colab_type": "text"
      },
      "source": [
        "6.\tPredict the output for the given code snippet and justify the result\n",
        "a."
      ]
    },
    {
      "cell_type": "code",
      "metadata": {
        "id": "BIoxHeNcsBPc",
        "colab_type": "code",
        "colab": {
          "base_uri": "https://localhost:8080/",
          "height": 50
        },
        "outputId": "3b25c231-70f7-4f7b-a2bf-0b5d297c7279"
      },
      "source": [
        "str1=True\n",
        "x=5>3\n",
        "print(str1==x)\n",
        "y=5>8\n",
        "print(str1==y)\n",
        "#str1==x value of 5>3 which is true,str1 is true.hence str1==x is true\n",
        "#str1==y value of y is 5>8 which is false,but str1 is true .hence,str1==y is false"
      ],
      "execution_count": null,
      "outputs": [
        {
          "output_type": "stream",
          "text": [
            "True\n",
            "False\n"
          ],
          "name": "stdout"
        }
      ]
    },
    {
      "cell_type": "markdown",
      "metadata": {
        "id": "UtU9N04-s-Sa",
        "colab_type": "text"
      },
      "source": [
        "b.\n"
      ]
    },
    {
      "cell_type": "code",
      "metadata": {
        "id": "LtqN5e5xsd70",
        "colab_type": "code",
        "colab": {
          "base_uri": "https://localhost:8080/",
          "height": 33
        },
        "outputId": "901a18c9-cd0f-4d46-bb1c-308d952d58b0"
      },
      "source": [
        "num=7\n",
        "Name=\"Michael Jackson\"\n",
        "sear_num=Name.find('el')\n",
        "print(num>sear_num)\n",
        "#here the value of sear_num is the index number of 'e' in 'el' on its first occurrence which is 5.where 7>5\n",
        "#Hence, num>sear_num is True"
      ],
      "execution_count": null,
      "outputs": [
        {
          "output_type": "stream",
          "text": [
            "True\n"
          ],
          "name": "stdout"
        }
      ]
    },
    {
      "cell_type": "markdown",
      "metadata": {
        "id": "XnlRBB7Wujgz",
        "colab_type": "text"
      },
      "source": [
        "7.Write a python code to get desired output\n",
        "Input string : p_phrase = \"was it a car or a cat I saw\"\n",
        "Output string : WAS I TAC A RO RAC A TI SAW\n"
      ]
    },
    {
      "cell_type": "code",
      "metadata": {
        "id": "pQxKxYCfvSmR",
        "colab_type": "code",
        "colab": {
          "base_uri": "https://localhost:8080/",
          "height": 33
        },
        "outputId": "05bad7cf-6693-4b82-9942-342e1cd5e6b7"
      },
      "source": [
        "p_phrase='was it a car or a cat I saw'\n",
        "p=p_phrase.upper()[::-1]\n",
        "print(p)"
      ],
      "execution_count": null,
      "outputs": [
        {
          "output_type": "stream",
          "text": [
            "WAS I TAC A RO RAC A TI SAW\n"
          ],
          "name": "stdout"
        }
      ]
    },
    {
      "cell_type": "markdown",
      "metadata": {
        "id": "q2jwO3YOv6Lj",
        "colab_type": "text"
      },
      "source": [
        "8.\tWrite a python code to print integer value : 946\n",
        "Input string : A='1934567'"
      ]
    },
    {
      "cell_type": "code",
      "metadata": {
        "id": "Jg604ltEv2-m",
        "colab_type": "code",
        "colab": {
          "base_uri": "https://localhost:8080/",
          "height": 33
        },
        "outputId": "fff15ace-01fe-49a6-ec10-695cf8c0db59"
      },
      "source": [
        "A='1934567'\n",
        "print(A[1::2])"
      ],
      "execution_count": null,
      "outputs": [
        {
          "output_type": "stream",
          "text": [
            "946\n"
          ],
          "name": "stdout"
        }
      ]
    },
    {
      "cell_type": "markdown",
      "metadata": {
        "id": "yr5uQVv-wV1z",
        "colab_type": "text"
      },
      "source": [
        "9.\tWrite a python code to get desired output"
      ]
    },
    {
      "cell_type": "code",
      "metadata": {
        "id": "nqEgvBQjwTqg",
        "colab_type": "code",
        "colab": {
          "base_uri": "https://localhost:8080/",
          "height": 33
        },
        "outputId": "9950ec27-b3ef-43af-90f2-3fa8294f3753"
      },
      "source": [
        "fake_phrase=\"Fake news has a knack for spreading like wild fire\"\n",
        "x=fake_phrase[16:40:].upper()[::-1]\n",
        "x.split()"
      ],
      "execution_count": null,
      "outputs": [
        {
          "output_type": "execute_result",
          "data": {
            "text/plain": [
              "['EKIL', 'GNIDAERPS', 'ROF', 'KCANK']"
            ]
          },
          "metadata": {
            "tags": []
          },
          "execution_count": 22
        }
      ]
    },
    {
      "cell_type": "markdown",
      "metadata": {
        "id": "q45YWVNzyDs9",
        "colab_type": "text"
      },
      "source": [
        "10.\tWrite a python code to get desired output\n",
        "msg1 = \"Facebook already uses AI to Filter Fake stories from the feeds of users\"\n",
        "out = [Facebook , already, uses, AI, to, Filter, Fake, stories, from, the, feeds, of, users] \n"
      ]
    },
    {
      "cell_type": "code",
      "metadata": {
        "id": "XL82LMAExWY2",
        "colab_type": "code",
        "colab": {
          "base_uri": "https://localhost:8080/",
          "height": 33
        },
        "outputId": "08a5b95f-a3f5-4fb2-8263-d7c3a7f02359"
      },
      "source": [
        "msg1=\"Facebook already uses AI to Filter Fake stories from the feeds of users\"\n",
        "print(msg1.split())"
      ],
      "execution_count": null,
      "outputs": [
        {
          "output_type": "stream",
          "text": [
            "['Facebook', 'already', 'uses', 'AI', 'to', 'Filter', 'Fake', 'stories', 'from', 'the', 'feeds', 'of', 'users']\n"
          ],
          "name": "stdout"
        }
      ]
    },
    {
      "cell_type": "markdown",
      "metadata": {
        "id": "4iyZqXUZyfJX",
        "colab_type": "text"
      },
      "source": [
        "11.\tPredict the output for given code snippet .Justify the result .\n",
        "msg2=\"Welcome to sr engineering college\"\n",
        "x= write the logic to count the occurrance of o in msg2   - expected 3\n",
        "y= write the logic to count the occurrance of r in msg2   - expected 2\n",
        "msg2[y**x:(x**y+x+y):][::-1] "
      ]
    },
    {
      "cell_type": "code",
      "metadata": {
        "id": "VsdH69gxydt-",
        "colab_type": "code",
        "colab": {
          "base_uri": "https://localhost:8080/",
          "height": 33
        },
        "outputId": "eac29d5a-e4b1-47bf-ffe4-3137d6b18fbe"
      },
      "source": [
        "msg2=\"Welcome to sr engineering college\"\n",
        "x=msg2.count('o')\n",
        "y=msg2.count('r')\n",
        "msg2[y**x:(x**y+x+y):][::-1]\n",
        "#x counts the occurance of o in msg2\n",
        "#next step the slicing will br taking place with index value y**x as 8 and stop position x**y+x+y==14\n",
        "#to str and the string will be reversed "
      ],
      "execution_count": null,
      "outputs": [
        {
          "output_type": "execute_result",
          "data": {
            "text/plain": [
              "' rs ot'"
            ]
          },
          "metadata": {
            "tags": []
          },
          "execution_count": 25
        }
      ]
    },
    {
      "cell_type": "markdown",
      "metadata": {
        "id": "vKQ-RfFhzlvc",
        "colab_type": "text"
      },
      "source": [
        "12 a.\n"
      ]
    },
    {
      "cell_type": "code",
      "metadata": {
        "id": "GGbqsxs-yxnO",
        "colab_type": "code",
        "colab": {
          "base_uri": "https://localhost:8080/",
          "height": 33
        },
        "outputId": "f4648b25-6b25-4f15-99ec-ce5247ed0c4b"
      },
      "source": [
        "num1,num2=\"94\",\"30\"\n",
        "data=\"As per Census 2011, Gender ratio of India is 943 females per 1000 males\"\n",
        "num1+num2[0] in data\n",
        "#num1 is '94', num2[0] is '3'. num1+num2[0] is '943' which is present in data. Hence, output will be True"
      ],
      "execution_count": null,
      "outputs": [
        {
          "output_type": "execute_result",
          "data": {
            "text/plain": [
              "True"
            ]
          },
          "metadata": {
            "tags": []
          },
          "execution_count": 26
        }
      ]
    },
    {
      "cell_type": "markdown",
      "metadata": {
        "id": "-gOgnwNf0Mbc",
        "colab_type": "text"
      },
      "source": [
        "12 b."
      ]
    },
    {
      "cell_type": "code",
      "metadata": {
        "id": "XFIIkjPq0KUL",
        "colab_type": "code",
        "colab": {
          "base_uri": "https://localhost:8080/",
          "height": 50
        },
        "outputId": "0ccdd338-476c-45a4-f2f6-7aad5a213649"
      },
      "source": [
        "print(data[:45],print(int(num1)+int(num2)))\n",
        "# At First it will convert num1,num2 to int and add them\n",
        "#Next by slicing it will go to 44th index position will print  'As per Census 2011, Gender ratio of India is '\n",
        "#None is printed because there is no return value for the print(int(num1)+int(num2)) function"
      ],
      "execution_count": null,
      "outputs": [
        {
          "output_type": "stream",
          "text": [
            "124\n",
            "As per Census 2011, Gender ratio of India is  None\n"
          ],
          "name": "stdout"
        }
      ]
    },
    {
      "cell_type": "markdown",
      "metadata": {
        "id": "NxvWzJ741FRC",
        "colab_type": "text"
      },
      "source": [
        "13."
      ]
    },
    {
      "cell_type": "code",
      "metadata": {
        "id": "VZZB1oNa1C96",
        "colab_type": "code",
        "colab": {
          "base_uri": "https://localhost:8080/",
          "height": 83
        },
        "outputId": "e6635145-0ced-45ef-c9e9-eb883e1b5064"
      },
      "source": [
        "M=float(input('Please enter the amount of water (kilograms) : '))\n",
        "initialTemperature=float(input('Please enter the initial temperature of water (degree celsius) : '))\n",
        "finalTemperature=float(input('Please enter the final temperature of water (degree celsius) : '))\n",
        "Q = M * 4184 * (finalTemperature - initialTemperature)\n",
        "print(f'Energy required to heat the water = {Q} joules')"
      ],
      "execution_count": null,
      "outputs": [
        {
          "output_type": "stream",
          "text": [
            "Please enter the amount of water (kilograms) : 25\n",
            "Please enter the initial temperature of water (degree celsius) : 6\n",
            "Please enter the final temperature of water (degree celsius) : 8\n",
            "Energy required to heat the water = 209200.0 joules\n"
          ],
          "name": "stdout"
        }
      ]
    },
    {
      "cell_type": "markdown",
      "metadata": {
        "id": "T_J0Dalt1j-E",
        "colab_type": "text"
      },
      "source": [
        "14.\tYou are required to generate a word similar to ZOO, X and Y that denote the number of Zs and Os respectively.\n",
        "The generated word similar to ZOO where Y= 2 * X"
      ]
    },
    {
      "cell_type": "code",
      "metadata": {
        "id": "gK9QGcSR1ajh",
        "colab_type": "code",
        "colab": {
          "base_uri": "https://localhost:8080/",
          "height": 50
        },
        "outputId": "163793a0-8d23-4db6-9966-00d22b57b85f"
      },
      "source": [
        "x=int(input('Enter number of x' ))\n",
        "y=x*2\n",
        "print(f\"the word is {'z'*x+'o'*y}\")"
      ],
      "execution_count": null,
      "outputs": [
        {
          "output_type": "stream",
          "text": [
            "Enter number of x2\n",
            "the word is zzoooo\n"
          ],
          "name": "stdout"
        }
      ]
    },
    {
      "cell_type": "markdown",
      "metadata": {
        "id": "ur-GI30P20St",
        "colab_type": "text"
      },
      "source": [
        "15.\n"
      ]
    },
    {
      "cell_type": "code",
      "metadata": {
        "id": "n_x1JuJz2UTE",
        "colab_type": "code",
        "colab": {
          "base_uri": "https://localhost:8080/",
          "height": 100
        },
        "outputId": "90e04a4d-03d5-4004-ca5a-02be3ea4ccb0"
      },
      "source": [
        "x=int(input('Enter x integer : '))\n",
        "y=int(input('Enter y integer : '))\n",
        "pow=x**y\n",
        "div=x//y\n",
        "print(pow)\n",
        "print(div)\n",
        "print(div^(x+y))"
      ],
      "execution_count": null,
      "outputs": [
        {
          "output_type": "stream",
          "text": [
            "Enter 1st integer : 2\n",
            "Enter 2nd integer : 6\n",
            "64\n",
            "0\n",
            "8\n"
          ],
          "name": "stdout"
        }
      ]
    },
    {
      "cell_type": "code",
      "metadata": {
        "id": "ROiBqz2c2-Xt",
        "colab_type": "code",
        "colab": {}
      },
      "source": [
        ""
      ],
      "execution_count": null,
      "outputs": []
    }
  ]
}